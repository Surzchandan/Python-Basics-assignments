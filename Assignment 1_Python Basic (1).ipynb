{
 "cells": [
  {
   "cell_type": "markdown",
   "id": "e957e505",
   "metadata": {},
   "source": [
    "#1. In the below elements which of them are values or an expression? eg:- values can be integer or string and expressions will be mathematical operators.\n",
    "\n",
    "* \n",
    "'hello'\n",
    "-87.8\n",
    "- \n",
    "/ \n",
    "+\t\n",
    "6 \n"
   ]
  },
  {
   "cell_type": "code",
   "execution_count": 1,
   "id": "9411126e",
   "metadata": {},
   "outputs": [
    {
     "data": {
      "text/plain": [
       "'Values=\"Hello\",-87.8,6\\nExpressions=*,-,/,+'"
      ]
     },
     "execution_count": 1,
     "metadata": {},
     "output_type": "execute_result"
    }
   ],
   "source": [
    "\"\"\"Values=\"Hello\",-87.8,6\n",
    "Expressions=*,-,/,+\"\"\""
   ]
  },
  {
   "cell_type": "markdown",
   "id": "7551103c",
   "metadata": {},
   "source": [
    "#2. What is the difference between string and variable?"
   ]
  },
  {
   "cell_type": "markdown",
   "id": "c15371ce",
   "metadata": {},
   "source": [
    "Ans:a string is a value representing text,Strings in Python are actually a sequence, which basically means Python keeps track of every element in the string as a sequence and  a variable is reserved memory location to store the value.\n",
    "My_str=\"Hello sir\" In \"Hello Sir\" is string and My_str is Variable.\n"
   ]
  },
  {
   "cell_type": "markdown",
   "id": "41735c78",
   "metadata": {},
   "source": [
    "#3. Describe three different data types."
   ]
  },
  {
   "cell_type": "code",
   "execution_count": 2,
   "id": "8650620f",
   "metadata": {},
   "outputs": [],
   "source": [
    "a=[\"hello\",7,8.9,(2,3,4,55)]#the list is used for storing multiple data items in a single variable."
   ]
  },
  {
   "cell_type": "code",
   "execution_count": 3,
   "id": "a0c4ec4d",
   "metadata": {},
   "outputs": [
    {
     "data": {
      "text/plain": [
       "list"
      ]
     },
     "execution_count": 3,
     "metadata": {},
     "output_type": "execute_result"
    }
   ],
   "source": [
    "type(a)"
   ]
  },
  {
   "cell_type": "code",
   "execution_count": 4,
   "id": "23efc850",
   "metadata": {},
   "outputs": [],
   "source": [
    "b=9#integer can store only numerical values."
   ]
  },
  {
   "cell_type": "code",
   "execution_count": 5,
   "id": "4e30e1d2",
   "metadata": {},
   "outputs": [
    {
     "data": {
      "text/plain": [
       "int"
      ]
     },
     "execution_count": 5,
     "metadata": {},
     "output_type": "execute_result"
    }
   ],
   "source": [
    "type(b)"
   ]
  },
  {
   "cell_type": "code",
   "execution_count": 6,
   "id": "cc217730",
   "metadata": {},
   "outputs": [],
   "source": [
    "c=67.78#float can store only floating values such as 22.33, 10.0, etc"
   ]
  },
  {
   "cell_type": "code",
   "execution_count": 7,
   "id": "a54544d4",
   "metadata": {},
   "outputs": [
    {
     "data": {
      "text/plain": [
       "float"
      ]
     },
     "execution_count": 7,
     "metadata": {},
     "output_type": "execute_result"
    }
   ],
   "source": [
    "type(c)"
   ]
  },
  {
   "cell_type": "code",
   "execution_count": 8,
   "id": "6e20ec74",
   "metadata": {},
   "outputs": [],
   "source": [
    "d=5+7j"
   ]
  },
  {
   "cell_type": "code",
   "execution_count": 9,
   "id": "3bd5092b",
   "metadata": {},
   "outputs": [
    {
     "data": {
      "text/plain": [
       "complex"
      ]
     },
     "execution_count": 9,
     "metadata": {},
     "output_type": "execute_result"
    }
   ],
   "source": [
    "type(d)"
   ]
  },
  {
   "cell_type": "markdown",
   "id": "cc7c57ce",
   "metadata": {},
   "source": [
    "#4.What is an expression made up of? What do all expressions do?"
   ]
  },
  {
   "cell_type": "markdown",
   "id": "9fb06547",
   "metadata": {},
   "source": [
    "Ans=\"expressions are composed of a syntactically legal combination of Atoms, Primaries, Operators,built in functions or user defined functions and returns us output of expression.\"\n",
    " Ex. a = 2 * 2 expressions are used to evaluate the values as a 4 or represent the result on the screen as a output."
   ]
  },
  {
   "cell_type": "markdown",
   "id": "b76b48b4",
   "metadata": {},
   "source": [
    "#5. This assignment statements, like spam = 10. What is the difference between an expression and a statement?"
   ]
  },
  {
   "cell_type": "markdown",
   "id": "4b79bd0d",
   "metadata": {},
   "source": [
    "Ans=Expression is made up of values, containers, and mathematical operators (operands) and the statement is just like a command that a python interpreter executes like print"
   ]
  },
  {
   "cell_type": "markdown",
   "id": "3563e4c8",
   "metadata": {},
   "source": [
    "#6. After running the following code, what does the variable bacon contain?\n"
   ]
  },
  {
   "cell_type": "code",
   "execution_count": 10,
   "id": "1b49d10b",
   "metadata": {},
   "outputs": [
    {
     "data": {
      "text/plain": [
       "23"
      ]
     },
     "execution_count": 10,
     "metadata": {},
     "output_type": "execute_result"
    }
   ],
   "source": [
    "bacon = 22\n",
    "bacon + 1"
   ]
  },
  {
   "cell_type": "markdown",
   "id": "50e35afd",
   "metadata": {},
   "source": [
    "#7. What should the values of the following two terms be?\n"
   ]
  },
  {
   "cell_type": "code",
   "execution_count": 11,
   "id": "bf046a1d",
   "metadata": {},
   "outputs": [
    {
     "data": {
      "text/plain": [
       "'spamspamspam'"
      ]
     },
     "execution_count": 11,
     "metadata": {},
     "output_type": "execute_result"
    }
   ],
   "source": [
    "'spam' + 'spamspam'\n",
    "'spam' * 3"
   ]
  },
  {
   "cell_type": "markdown",
   "id": "6317c87c",
   "metadata": {},
   "source": [
    "#8. Why is eggs a valid variable name while 100 is invalid?\n",
    "\n",
    "Ans=\"because we can't start giving variable an integer name. if we, we should begin with, a string-like alphabet name then integer. e100 or eggs100 is valid\""
   ]
  },
  {
   "cell_type": "markdown",
   "id": "f19482ef",
   "metadata": {},
   "source": [
    "#9. What three functions can be used to get the integer, floating-point number, or string version of a value?\n",
    "\n",
    "Ans= int(),float(),str()"
   ]
  },
  {
   "cell_type": "markdown",
   "id": "b0309cf2",
   "metadata": {},
   "source": [
    "#10. Why does this expression cause an error? How can you fix it?\n",
    "\n",
    "'I have eaten ' + 99 + ' burritos.'\n",
    "Ans=\"Need to do type casting\""
   ]
  },
  {
   "cell_type": "code",
   "execution_count": 13,
   "id": "4dd248be",
   "metadata": {},
   "outputs": [],
   "source": [
    "x='I have eaten ' + str(99) + ' burritos.'"
   ]
  },
  {
   "cell_type": "code",
   "execution_count": 14,
   "id": "fb5b83f6",
   "metadata": {},
   "outputs": [
    {
     "data": {
      "text/plain": [
       "'I have eaten 99 burritos.'"
      ]
     },
     "execution_count": 14,
     "metadata": {},
     "output_type": "execute_result"
    }
   ],
   "source": [
    "x"
   ]
  },
  {
   "cell_type": "code",
   "execution_count": null,
   "id": "181697d0",
   "metadata": {},
   "outputs": [],
   "source": []
  }
 ],
 "metadata": {
  "kernelspec": {
   "display_name": "Python 3 (ipykernel)",
   "language": "python",
   "name": "python3"
  },
  "language_info": {
   "codemirror_mode": {
    "name": "ipython",
    "version": 3
   },
   "file_extension": ".py",
   "mimetype": "text/x-python",
   "name": "python",
   "nbconvert_exporter": "python",
   "pygments_lexer": "ipython3",
   "version": "3.9.7"
  }
 },
 "nbformat": 4,
 "nbformat_minor": 5
}
