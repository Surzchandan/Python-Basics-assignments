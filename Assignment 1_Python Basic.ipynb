{
 "cells": [
  {
   "cell_type": "code",
   "execution_count": 13,
   "id": "c8cc047f",
   "metadata": {},
   "outputs": [
    {
     "data": {
      "text/plain": [
       "\"* \\n'hello'\\n-87.8\\n- \\n/ \\n+\\t\\n6 \""
      ]
     },
     "execution_count": 13,
     "metadata": {},
     "output_type": "execute_result"
    }
   ],
   "source": [
    "#1. In the below elements which of them are values or an expression? eg:- values can be integer or string and expressions will be mathematical operators.\n",
    "\"\"\"* \n",
    "'hello'\n",
    "-87.8\n",
    "- \n",
    "/ \n",
    "+\t\n",
    "6 \"\"\"\n"
   ]
  },
  {
   "cell_type": "code",
   "execution_count": 10,
   "id": "9411126e",
   "metadata": {},
   "outputs": [
    {
     "data": {
      "text/plain": [
       "'Values=\"Hello\",-87.8,6\\nExpressions=*,-,/,+'"
      ]
     },
     "execution_count": 10,
     "metadata": {},
     "output_type": "execute_result"
    }
   ],
   "source": [
    "\"\"\"Values=\"Hello\",-87.8,6\n",
    "Expressions=*,-,/,+\"\"\""
   ]
  },
  {
   "cell_type": "code",
   "execution_count": 11,
   "id": "1fc6b151",
   "metadata": {},
   "outputs": [],
   "source": [
    "#2. What is the difference between string and variable?"
   ]
  },
  {
   "cell_type": "code",
   "execution_count": 1,
   "id": "476d671a",
   "metadata": {},
   "outputs": [
    {
     "data": {
      "text/plain": [
       "'Ans:a string is a value representing text,Strings in Python are actually a sequence, which basically means Python keeps track of every element in the string as a sequence and  a variable is reserved memory location to store the value.\\nMy_str=\"Hello sir\" In \"Hello Sir\" is string and My_str is Variable.'"
      ]
     },
     "execution_count": 1,
     "metadata": {},
     "output_type": "execute_result"
    }
   ],
   "source": [
    "\"\"\"Ans:a string is a value representing text,Strings in Python are actually a sequence, which basically means Python keeps track of every element in the string as a sequence and  a variable is reserved memory location to store the value.\n",
    "My_str=\"Hello sir\" In \"Hello Sir\" is string and My_str is Variable.\"\"\"\n"
   ]
  },
  {
   "cell_type": "code",
   "execution_count": 18,
   "id": "b47f54bd",
   "metadata": {},
   "outputs": [],
   "source": [
    "#3. Describe three different data types."
   ]
  },
  {
   "cell_type": "code",
   "execution_count": 8,
   "id": "8650620f",
   "metadata": {},
   "outputs": [],
   "source": [
    "a=[\"hello\",7,8.9,(2,3,4,55)]#the list is used for storing multiple data items in a single variable."
   ]
  },
  {
   "cell_type": "code",
   "execution_count": 9,
   "id": "a0c4ec4d",
   "metadata": {},
   "outputs": [
    {
     "data": {
      "text/plain": [
       "list"
      ]
     },
     "execution_count": 9,
     "metadata": {},
     "output_type": "execute_result"
    }
   ],
   "source": [
    "type(a)"
   ]
  },
  {
   "cell_type": "code",
   "execution_count": 22,
   "id": "23efc850",
   "metadata": {},
   "outputs": [],
   "source": [
    "b=9#integer can store only numerical values."
   ]
  },
  {
   "cell_type": "code",
   "execution_count": 23,
   "id": "4e30e1d2",
   "metadata": {},
   "outputs": [
    {
     "data": {
      "text/plain": [
       "int"
      ]
     },
     "execution_count": 23,
     "metadata": {},
     "output_type": "execute_result"
    }
   ],
   "source": [
    "type(b)"
   ]
  },
  {
   "cell_type": "code",
   "execution_count": 24,
   "id": "cc217730",
   "metadata": {},
   "outputs": [],
   "source": [
    "c=67.78#float can store only floating values such as 22.33, 10.0, etc"
   ]
  },
  {
   "cell_type": "code",
   "execution_count": 25,
   "id": "a54544d4",
   "metadata": {},
   "outputs": [
    {
     "data": {
      "text/plain": [
       "float"
      ]
     },
     "execution_count": 25,
     "metadata": {},
     "output_type": "execute_result"
    }
   ],
   "source": [
    "type(c)"
   ]
  },
  {
   "cell_type": "code",
   "execution_count": 26,
   "id": "6e20ec74",
   "metadata": {},
   "outputs": [],
   "source": [
    "d=5+7j"
   ]
  },
  {
   "cell_type": "code",
   "execution_count": 27,
   "id": "3bd5092b",
   "metadata": {},
   "outputs": [
    {
     "data": {
      "text/plain": [
       "complex"
      ]
     },
     "execution_count": 27,
     "metadata": {},
     "output_type": "execute_result"
    }
   ],
   "source": [
    "type(d)"
   ]
  },
  {
   "cell_type": "code",
   "execution_count": 2,
   "id": "e4ac75e6",
   "metadata": {},
   "outputs": [],
   "source": [
    "#4.What is an expression made up of? What do all expressions do?"
   ]
  },
  {
   "cell_type": "code",
   "execution_count": 5,
   "id": "c7cf7de8",
   "metadata": {},
   "outputs": [],
   "source": [
    "Ans=\"expressions are composed of a syntactically legal combination of Atoms, Primaries, Operators,built in functions or user defined functions and returns us output of expression.\"\n",
    " #Ex. a = 2 * 2 expressions are used to evaluate the values as a 4 or represent the result on the screen as a output."
   ]
  },
  {
   "cell_type": "code",
   "execution_count": 7,
   "id": "93f3a4a0",
   "metadata": {},
   "outputs": [],
   "source": [
    "#5. This assignment statements, like spam = 10. What is the difference between an expression and a statement?"
   ]
  },
  {
   "cell_type": "code",
   "execution_count": 11,
   "id": "c65fbc07",
   "metadata": {},
   "outputs": [],
   "source": [
    "#Ans=Expression is made up of values, containers, and mathematical operators (operands) and the statement is just like a command that a python interpreter executes like print"
   ]
  },
  {
   "cell_type": "code",
   "execution_count": 14,
   "id": "55dc4321",
   "metadata": {},
   "outputs": [
    {
     "data": {
      "text/plain": [
       "23"
      ]
     },
     "execution_count": 14,
     "metadata": {},
     "output_type": "execute_result"
    }
   ],
   "source": [
    "#6. After running the following code, what does the variable bacon contain?\n",
    "bacon = 22\n",
    "bacon + 1\n",
    "#23"
   ]
  },
  {
   "cell_type": "code",
   "execution_count": 16,
   "id": "3f269a9e",
   "metadata": {},
   "outputs": [
    {
     "data": {
      "text/plain": [
       "'spamspamspam'"
      ]
     },
     "execution_count": 16,
     "metadata": {},
     "output_type": "execute_result"
    }
   ],
   "source": [
    "#7. What should the values of the following two terms be?\n",
    "'spam' + 'spamspam'\n",
    "'spam' * 3\n",
    "#'spamspamspam'"
   ]
  },
  {
   "cell_type": "code",
   "execution_count": 19,
   "id": "b98522b1",
   "metadata": {},
   "outputs": [],
   "source": [
    "#8. Why is eggs a valid variable name while 100 is invalid?\n",
    "Ans=\"because we can't start giving variable an integer name. if we, we should begin with, a string-like alphabet name then integer. e100 or eggs100 is valid\""
   ]
  },
  {
   "cell_type": "code",
   "execution_count": 21,
   "id": "538a0595",
   "metadata": {},
   "outputs": [],
   "source": [
    "#9. What three functions can be used to get the integer, floating-point number, or string version of a value?\n",
    "Ans= int(),float(),str()"
   ]
  },
  {
   "cell_type": "code",
   "execution_count": 22,
   "id": "64202a38",
   "metadata": {},
   "outputs": [
    {
     "ename": "TypeError",
     "evalue": "can only concatenate str (not \"int\") to str",
     "output_type": "error",
     "traceback": [
      "\u001b[1;31m---------------------------------------------------------------------------\u001b[0m",
      "\u001b[1;31mTypeError\u001b[0m                                 Traceback (most recent call last)",
      "\u001b[1;32mC:\\Users\\370011~1\\AppData\\Local\\Temp/ipykernel_3420/3650978176.py\u001b[0m in \u001b[0;36m<module>\u001b[1;34m\u001b[0m\n\u001b[0;32m      1\u001b[0m \u001b[1;31m#10. Why does this expression cause an error? How can you fix it?\u001b[0m\u001b[1;33m\u001b[0m\u001b[1;33m\u001b[0m\u001b[0m\n\u001b[1;32m----> 2\u001b[1;33m \u001b[1;34m'I have eaten '\u001b[0m \u001b[1;33m+\u001b[0m \u001b[1;36m99\u001b[0m \u001b[1;33m+\u001b[0m \u001b[1;34m' burritos.'\u001b[0m\u001b[1;33m\u001b[0m\u001b[1;33m\u001b[0m\u001b[0m\n\u001b[0m",
      "\u001b[1;31mTypeError\u001b[0m: can only concatenate str (not \"int\") to str"
     ]
    }
   ],
   "source": [
    "#10. Why does this expression cause an error? How can you fix it?\n",
    "'I have eaten ' + 99 + ' burritos.'\n",
    "Ans=\"Need to do type casting\""
   ]
  },
  {
   "cell_type": "code",
   "execution_count": 26,
   "id": "4dd248be",
   "metadata": {},
   "outputs": [],
   "source": [
    "x='I have eaten ' + str(99) + ' burritos.'"
   ]
  },
  {
   "cell_type": "code",
   "execution_count": 27,
   "id": "fb5b83f6",
   "metadata": {},
   "outputs": [
    {
     "data": {
      "text/plain": [
       "'I have eaten 99 burritos.'"
      ]
     },
     "execution_count": 27,
     "metadata": {},
     "output_type": "execute_result"
    }
   ],
   "source": [
    "x"
   ]
  },
  {
   "cell_type": "code",
   "execution_count": null,
   "id": "181697d0",
   "metadata": {},
   "outputs": [],
   "source": []
  }
 ],
 "metadata": {
  "kernelspec": {
   "display_name": "Python 3 (ipykernel)",
   "language": "python",
   "name": "python3"
  },
  "language_info": {
   "codemirror_mode": {
    "name": "ipython",
    "version": 3
   },
   "file_extension": ".py",
   "mimetype": "text/x-python",
   "name": "python",
   "nbconvert_exporter": "python",
   "pygments_lexer": "ipython3",
   "version": "3.9.7"
  }
 },
 "nbformat": 4,
 "nbformat_minor": 5
}
