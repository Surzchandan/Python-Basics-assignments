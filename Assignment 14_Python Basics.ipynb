{
 "cells": [
  {
   "cell_type": "markdown",
   "id": "967fbea4",
   "metadata": {},
   "source": [
    "# 1. What does RGBA stand for?"
   ]
  },
  {
   "cell_type": "markdown",
   "id": "2176fe16",
   "metadata": {},
   "source": [
    "**Ans**: RGBA is a four-channel format containing data for Red, Green, Blue, and an Alpha value. Where Alpha Represents the Opacity"
   ]
  },
  {
   "cell_type": "markdown",
   "id": "a4e1577b",
   "metadata": {},
   "source": [
    "# 2. From the Pillow module, how do you get the RGBA value of any images?\n"
   ]
  },
  {
   "cell_type": "markdown",
   "id": "3ce59164",
   "metadata": {},
   "source": [
    "**Ans**: **`ImageColor.getcolor()`** gives rgba value of any image"
   ]
  },
  {
   "cell_type": "markdown",
   "id": "f11273b5",
   "metadata": {},
   "source": [
    "# 3. What is a box tuple, and how does it work?\n"
   ]
  },
  {
   "cell_type": "markdown",
   "id": "cd217c84",
   "metadata": {},
   "source": [
    "**Ans:** A box tuple is a tuple value of four integers: the left-edge x-coordinate, the top-edge y-coordinate,the width, and the height, respectively."
   ]
  },
  {
   "cell_type": "markdown",
   "id": "86d6ac4d",
   "metadata": {},
   "source": [
    "# 4. Use your image and load in notebook then, How can you find out the width and height of an Image object?\n"
   ]
  },
  {
   "cell_type": "code",
   "execution_count": 12,
   "id": "ec03ab8a",
   "metadata": {},
   "outputs": [
    {
     "name": "stdout",
     "output_type": "stream",
     "text": [
      "Width,Height-> (1072, 1556)\n"
     ]
    },
    {
     "data": {
      "text/plain": [
       "(1072, 1556)"
      ]
     },
     "execution_count": 12,
     "metadata": {},
     "output_type": "execute_result"
    }
   ],
   "source": [
    "from PIL import Image\n",
    "pic=Image.open('Photo.jpg')\n",
    "print(f'Width,Height-> {pic.size}')\n",
    "pic.size"
   ]
  },
  {
   "cell_type": "markdown",
   "id": "f1891538",
   "metadata": {},
   "source": [
    "# 5. What method would you call to get Image object for a 100×100 image, excluding the lower-left quarter of it?\n"
   ]
  },
  {
   "cell_type": "code",
   "execution_count": 11,
   "id": "0c6c9262",
   "metadata": {},
   "outputs": [],
   "source": [
    "from PIL import Image\n",
    "img=Image.open('Photo.jpg')\n",
    "new_img=img.crop((0,50,50,50))\n",
    "\n"
   ]
  },
  {
   "cell_type": "markdown",
   "id": "8a2ad0eb",
   "metadata": {},
   "source": [
    "# 6. After making changes to an Image object, how could you save it as an image file?\n"
   ]
  },
  {
   "cell_type": "code",
   "execution_count": 10,
   "id": "66c189b5",
   "metadata": {},
   "outputs": [],
   "source": [
    "from PIL import Image\n",
    "pic=Image.open('Photo.jpg')\n",
    "pic.save('photo.jpg')"
   ]
  },
  {
   "cell_type": "markdown",
   "id": "04f77687",
   "metadata": {},
   "source": [
    "# 7. What module contains Pillow’s shape-drawing code?\n"
   ]
  },
  {
   "cell_type": "markdown",
   "id": "9c2f98a0",
   "metadata": {},
   "source": [
    "**Ans**: Pillows **`ImageDraw`** module contains Shape drawing methods"
   ]
  },
  {
   "cell_type": "markdown",
   "id": "91ac4693",
   "metadata": {},
   "source": [
    "# 8. Image objects do not have drawing methods. What kind of object does? How do you get this kind of object?"
   ]
  },
  {
   "cell_type": "markdown",
   "id": "141a72d7",
   "metadata": {},
   "source": [
    "**Ans:** ImageDraw objects have shape-drawing methods such as `point()`, `line()`, or `rectangle()`.They are returned by passing the Image object to the `ImageDraw.Draw()` function."
   ]
  },
  {
   "cell_type": "code",
   "execution_count": null,
   "id": "8a159e50",
   "metadata": {},
   "outputs": [],
   "source": []
  }
 ],
 "metadata": {
  "kernelspec": {
   "display_name": "Python 3 (ipykernel)",
   "language": "python",
   "name": "python3"
  },
  "language_info": {
   "codemirror_mode": {
    "name": "ipython",
    "version": 3
   },
   "file_extension": ".py",
   "mimetype": "text/x-python",
   "name": "python",
   "nbconvert_exporter": "python",
   "pygments_lexer": "ipython3",
   "version": "3.9.7"
  }
 },
 "nbformat": 4,
 "nbformat_minor": 5
}
