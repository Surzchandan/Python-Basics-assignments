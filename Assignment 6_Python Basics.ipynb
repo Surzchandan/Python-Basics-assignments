{
 "cells": [
  {
   "cell_type": "markdown",
   "id": "95fd32f2",
   "metadata": {},
   "source": [
    "# Python Basics_Assignment_6"
   ]
  },
  {
   "cell_type": "markdown",
   "id": "30aae2d7",
   "metadata": {},
   "source": [
    "1. What are escape characters, and how do you use them?"
   ]
  },
  {
   "cell_type": "markdown",
   "id": "97adb82b",
   "metadata": {},
   "source": [
    "\"\"\"In Python strings, the backslash \"\\\" is a special character, also called the \"escape\" character. It is used in representing certain whitespace characters: \"\\t\" is a tab, \"\\n\" is a newline, and \"\\r\" is a carriage return\n",
    "\n",
    "prefixing a special character with \"\\\" turns it into an ordinary character. This is called \"escaping\". For example, \"\\'\" is the single quote character. 'It\\'s Sunday' therefore is a valid string and equivalent to \"It's Sunday\". Likewise, '\"' can be escaped: \"\\\"hello\\\"\" is a string begins and ends with the literal double quote character. Finally, \"\\\" can be used to escape itself: \"\\\\\" is the literal backslash character.\"\"\""
   ]
  },
  {
   "cell_type": "code",
   "execution_count": 3,
   "id": "15809d06",
   "metadata": {},
   "outputs": [
    {
     "name": "stdout",
     "output_type": "stream",
     "text": [
      "It's sunday\n"
     ]
    }
   ],
   "source": [
    "print(\"It\\'s sunday\")"
   ]
  },
  {
   "cell_type": "code",
   "execution_count": 4,
   "id": "44fabf0b",
   "metadata": {},
   "outputs": [
    {
     "name": "stdout",
     "output_type": "stream",
     "text": [
      "\"hello\"\n"
     ]
    }
   ],
   "source": [
    "print(\"\\\"hello\\\"\")"
   ]
  },
  {
   "cell_type": "code",
   "execution_count": 5,
   "id": "5838df54",
   "metadata": {},
   "outputs": [
    {
     "name": "stdout",
     "output_type": "stream",
     "text": [
      "\\\n"
     ]
    }
   ],
   "source": [
    "print(\"\\\\\")"
   ]
  },
  {
   "cell_type": "code",
   "execution_count": 9,
   "id": "2cd1914f",
   "metadata": {},
   "outputs": [
    {
     "name": "stdout",
     "output_type": "stream",
     "text": [
      "Hi My name is Suraj \t Mbl_No.1234567890 \n",
      " My_Add:_ ABC \n"
     ]
    }
   ],
   "source": [
    "print(\"Hi My name is Suraj \\t Mbl_No.1234567890 \\n My_Add:_ ABC \")"
   ]
  },
  {
   "cell_type": "code",
   "execution_count": 10,
   "id": "2a0b0a1d",
   "metadata": {},
   "outputs": [
    {
     "name": "stdout",
     "output_type": "stream",
     "text": [
      "Hi My name is Suraj \t Mbl_No.1234567890 \n",
      " Every thing fine \n"
     ]
    }
   ],
   "source": [
    "print(\"Hi My name is Suraj \\t Mbl_No.1234567890 \\n My_Add:_ ABC \\r Every thing fine \")"
   ]
  },
  {
   "cell_type": "markdown",
   "id": "f367ee33",
   "metadata": {},
   "source": [
    "2. What do the escape characters n and t stand for?"
   ]
  },
  {
   "cell_type": "markdown",
   "id": "5cfa356e",
   "metadata": {},
   "source": [
    "\"\\t\" is for a tab, \"\\n\" is a newline character,"
   ]
  },
  {
   "cell_type": "markdown",
   "id": "27c9e431",
   "metadata": {},
   "source": [
    "3. What is the way to include backslash characters in a string?"
   ]
  },
  {
   "cell_type": "code",
   "execution_count": 12,
   "id": "23fc9c11",
   "metadata": {},
   "outputs": [
    {
     "name": "stdout",
     "output_type": "stream",
     "text": [
      "I like mango\\Banana\\watermelon\n"
     ]
    }
   ],
   "source": [
    "print( \"I like mango\\\\Banana\\\\watermelon\")"
   ]
  },
  {
   "cell_type": "markdown",
   "id": "8105a11b",
   "metadata": {},
   "source": [
    "4. The string \"Howl's Moving Castle\" is a correct value. Why isn't the single quote character in the word Howl's not escaped a problem?"
   ]
  },
  {
   "cell_type": "markdown",
   "id": "af3f426d",
   "metadata": {},
   "source": [
    "Ans:-The single quote in Howl's is fine because you've used double quotes to mark the beginning and end of the string."
   ]
  },
  {
   "cell_type": "code",
   "execution_count": 13,
   "id": "cf713fc1",
   "metadata": {},
   "outputs": [],
   "source": [
    "string=(\"Howl's Moving castle\")"
   ]
  },
  {
   "cell_type": "code",
   "execution_count": 14,
   "id": "1ac462da",
   "metadata": {},
   "outputs": [
    {
     "name": "stdout",
     "output_type": "stream",
     "text": [
      "Howl's Moving castle\n"
     ]
    }
   ],
   "source": [
    "print(string)"
   ]
  },
  {
   "cell_type": "markdown",
   "id": "95185828",
   "metadata": {},
   "source": [
    "5. How do you write a string of newlines if you don't want to use the n character?"
   ]
  },
  {
   "cell_type": "markdown",
   "id": "8a4341ca",
   "metadata": {},
   "source": [
    "we can use the parameter end ='\\n' in print function"
   ]
  },
  {
   "cell_type": "code",
   "execution_count": 17,
   "id": "a7bf41f9",
   "metadata": {},
   "outputs": [
    {
     "name": "stdout",
     "output_type": "stream",
     "text": [
      "Hi buddy\n",
      "suraj\n"
     ]
    }
   ],
   "source": [
    "print(\"Hi buddy\",end=\"\\n\")\n",
    "print(\"suraj\")"
   ]
  },
  {
   "cell_type": "markdown",
   "id": "6e812e1e",
   "metadata": {},
   "source": [
    "6. What are the values of the given expressions?\n",
    "\n",
    "    'Hello, world!'[1]--'e'\n",
    "    \n",
    "    'Hello, world!'[0:5]--'Hello'\n",
    "    \n",
    "    'Hello, world!'[:5]--'Hell0'\n",
    "    \n",
    "    'Hello, world!'[3:]--'l0, world!'\n"
   ]
  },
  {
   "cell_type": "code",
   "execution_count": 18,
   "id": "306089bf",
   "metadata": {},
   "outputs": [
    {
     "data": {
      "text/plain": [
       "'e'"
      ]
     },
     "execution_count": 18,
     "metadata": {},
     "output_type": "execute_result"
    }
   ],
   "source": [
    "  'Hello, world!'[1]"
   ]
  },
  {
   "cell_type": "code",
   "execution_count": 19,
   "id": "275c0ccf",
   "metadata": {},
   "outputs": [
    {
     "data": {
      "text/plain": [
       "'Hello'"
      ]
     },
     "execution_count": 19,
     "metadata": {},
     "output_type": "execute_result"
    }
   ],
   "source": [
    "  'Hello, world!'[0:5]"
   ]
  },
  {
   "cell_type": "code",
   "execution_count": 20,
   "id": "e5094a34",
   "metadata": {},
   "outputs": [
    {
     "data": {
      "text/plain": [
       "'Hello'"
      ]
     },
     "execution_count": 20,
     "metadata": {},
     "output_type": "execute_result"
    }
   ],
   "source": [
    "  'Hello, world!'[:5]"
   ]
  },
  {
   "cell_type": "code",
   "execution_count": 21,
   "id": "8a481424",
   "metadata": {},
   "outputs": [
    {
     "data": {
      "text/plain": [
       "'lo, world!'"
      ]
     },
     "execution_count": 21,
     "metadata": {},
     "output_type": "execute_result"
    }
   ],
   "source": [
    "'Hello, world!'[3:]"
   ]
  },
  {
   "cell_type": "markdown",
   "id": "c7bbfcc1",
   "metadata": {},
   "source": [
    "7. What are the values of the following expressions?\n",
    "\n",
    "'Hello'.upper()\n",
    "\n",
    "'Hello'.upper().isupper()\n",
    "\n",
    "'Hello'.upper().lower()\n"
   ]
  },
  {
   "cell_type": "code",
   "execution_count": 23,
   "id": "372d3442",
   "metadata": {},
   "outputs": [
    {
     "data": {
      "text/plain": [
       "'HELLO'"
      ]
     },
     "execution_count": 23,
     "metadata": {},
     "output_type": "execute_result"
    }
   ],
   "source": [
    "'Hello'.upper()"
   ]
  },
  {
   "cell_type": "code",
   "execution_count": 24,
   "id": "f9fa7031",
   "metadata": {},
   "outputs": [
    {
     "data": {
      "text/plain": [
       "True"
      ]
     },
     "execution_count": 24,
     "metadata": {},
     "output_type": "execute_result"
    }
   ],
   "source": [
    "'Hello'.upper().isupper()"
   ]
  },
  {
   "cell_type": "code",
   "execution_count": 25,
   "id": "24ab1b2b",
   "metadata": {},
   "outputs": [
    {
     "data": {
      "text/plain": [
       "'hello'"
      ]
     },
     "execution_count": 25,
     "metadata": {},
     "output_type": "execute_result"
    }
   ],
   "source": [
    "'Hello'.upper().lower()"
   ]
  },
  {
   "cell_type": "code",
   "execution_count": null,
   "id": "8e5c3354",
   "metadata": {},
   "outputs": [],
   "source": [
    "8. What are the values of the following expressions?\n",
    "'Remember, remember, the fifth of July.'.split()\n",
    "'-'.join('There can only one.'.split())\n"
   ]
  },
  {
   "cell_type": "code",
   "execution_count": 26,
   "id": "bc5fb1bd",
   "metadata": {},
   "outputs": [
    {
     "data": {
      "text/plain": [
       "['Remember,', 'remember,', 'the', 'fifth', 'of', 'July.']"
      ]
     },
     "execution_count": 26,
     "metadata": {},
     "output_type": "execute_result"
    }
   ],
   "source": [
    "'Remember, remember, the fifth of July.'.split()"
   ]
  },
  {
   "cell_type": "code",
   "execution_count": 27,
   "id": "95a304d8",
   "metadata": {},
   "outputs": [
    {
     "data": {
      "text/plain": [
       "'There-can-only-one.'"
      ]
     },
     "execution_count": 27,
     "metadata": {},
     "output_type": "execute_result"
    }
   ],
   "source": [
    "'-'.join('There can only one.'.split())"
   ]
  },
  {
   "cell_type": "markdown",
   "id": "a1e1081c",
   "metadata": {},
   "source": [
    "9. What are the methods for right-justifying, left-justifying, and centering a string?"
   ]
  },
  {
   "cell_type": "code",
   "execution_count": 38,
   "id": "b9a144f8",
   "metadata": {},
   "outputs": [],
   "source": [
    "s=\"Suraj\"\n"
   ]
  },
  {
   "cell_type": "code",
   "execution_count": 40,
   "id": "d0ca461e",
   "metadata": {},
   "outputs": [
    {
     "data": {
      "text/plain": [
       "'#####Suraj'"
      ]
     },
     "execution_count": 40,
     "metadata": {},
     "output_type": "execute_result"
    }
   ],
   "source": [
    "s.rjust(10,\"#\")"
   ]
  },
  {
   "cell_type": "code",
   "execution_count": 41,
   "id": "f084b4be",
   "metadata": {},
   "outputs": [
    {
     "data": {
      "text/plain": [
       "'Suraj***************'"
      ]
     },
     "execution_count": 41,
     "metadata": {},
     "output_type": "execute_result"
    }
   ],
   "source": [
    "s.ljust(20,\"*\")"
   ]
  },
  {
   "cell_type": "code",
   "execution_count": 42,
   "id": "6a83dc38",
   "metadata": {},
   "outputs": [
    {
     "data": {
      "text/plain": [
       "'_______Suraj________'"
      ]
     },
     "execution_count": 42,
     "metadata": {},
     "output_type": "execute_result"
    }
   ],
   "source": [
    "s.center(20,\"_\")"
   ]
  },
  {
   "cell_type": "markdown",
   "id": "1db0b162",
   "metadata": {},
   "source": [
    "10. What is the best way to remove whitespace characters from the start or end?"
   ]
  },
  {
   "cell_type": "code",
   "execution_count": 32,
   "id": "7e9488b1",
   "metadata": {},
   "outputs": [
    {
     "data": {
      "text/plain": [
       "'        Suraj'"
      ]
     },
     "execution_count": 32,
     "metadata": {},
     "output_type": "execute_result"
    }
   ],
   "source": [
    "s=(\"        Suraj      \")\n",
    "s.rstrip()"
   ]
  },
  {
   "cell_type": "code",
   "execution_count": 33,
   "id": "1f69ee7c",
   "metadata": {},
   "outputs": [
    {
     "data": {
      "text/plain": [
       "'Suraj      '"
      ]
     },
     "execution_count": 33,
     "metadata": {},
     "output_type": "execute_result"
    }
   ],
   "source": [
    "s.lstrip()"
   ]
  },
  {
   "cell_type": "code",
   "execution_count": null,
   "id": "3177da1f",
   "metadata": {},
   "outputs": [],
   "source": []
  }
 ],
 "metadata": {
  "kernelspec": {
   "display_name": "Python 3 (ipykernel)",
   "language": "python",
   "name": "python3"
  },
  "language_info": {
   "codemirror_mode": {
    "name": "ipython",
    "version": 3
   },
   "file_extension": ".py",
   "mimetype": "text/x-python",
   "name": "python",
   "nbconvert_exporter": "python",
   "pygments_lexer": "ipython3",
   "version": "3.9.7"
  }
 },
 "nbformat": 4,
 "nbformat_minor": 5
}
