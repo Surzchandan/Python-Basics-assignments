{
 "cells": [
  {
   "cell_type": "markdown",
   "id": "079cbcb8",
   "metadata": {},
   "source": [
    "# 1. To what does a relative path refer?"
   ]
  },
  {
   "cell_type": "markdown",
   "id": "e4d239c3",
   "metadata": {},
   "source": [
    "The relative path is the path of a file with respect to your current working directory(PWD)"
   ]
  },
  {
   "cell_type": "markdown",
   "id": "3b4d7a5a",
   "metadata": {},
   "source": [
    "# 2. What does an absolute path start with your operating system?"
   ]
  },
  {
   "cell_type": "markdown",
   "id": "5d4f6569",
   "metadata": {},
   "source": [
    "An absolute path contains the full set of directories from the root of the file system up to your target file or directory. An absolute path start with the root folder, such as / or C:."
   ]
  },
  {
   "cell_type": "markdown",
   "id": "0744f3af",
   "metadata": {},
   "source": [
    "# 3. What do the functions os.getcwd() and os.chdir() do?"
   ]
  },
  {
   "cell_type": "markdown",
   "id": "b661db53",
   "metadata": {},
   "source": [
    "getcwd stands for\"Get current working directory\". os.getcwd() returns the absolute path of the working directory where Python is currently running as a string str.\n",
    "\"chdir\" stands for \"Change Directory\". os.chdir() method in python used to change the current working directory to specified path. it takes only a single argument as new directory path."
   ]
  },
  {
   "cell_type": "markdown",
   "id": "ebd462bd",
   "metadata": {},
   "source": [
    "# 4. What are the . and .. folders?"
   ]
  },
  {
   "cell_type": "markdown",
   "id": "1f5ae3e5",
   "metadata": {},
   "source": [
    "The . is the current directory, while .. signifies the parent directory."
   ]
  },
  {
   "cell_type": "markdown",
   "id": "1616baee",
   "metadata": {},
   "source": [
    "# 5. In C:\\bacon\\eggs\\spam.txt, which part is the dir name, and which part is the base name?"
   ]
  },
  {
   "cell_type": "markdown",
   "id": "0c5ef7fa",
   "metadata": {},
   "source": [
    "in C:\\bacon\\eggs\\spam.txt\n",
    "\n",
    "Base name is rightmost segment of the filoe path i.e. =\"spam.txt\"\n",
    "\n",
    "for extracting we use os.path.basename()\n",
    "\n",
    "dir name is the folder name in which file exists. as in above C:\\bacon\\eggs\n",
    "\n",
    "for extracting dir name we can used os.path.dirname()"
   ]
  },
  {
   "cell_type": "markdown",
   "id": "cac36e4a",
   "metadata": {},
   "source": [
    "# 6. What are the three “mode” arguments that can be passed to the open() function?"
   ]
  },
  {
   "cell_type": "markdown",
   "id": "01c75633",
   "metadata": {},
   "source": [
    "Mode arguments that can be passed to open() function are:\"r\";\"w\";\"a\";\"+\"\n",
    "\n",
    "'r' for open a file in read mode/ for reading.\n",
    "\n",
    "'w' for open a file for writing. creates a new file if it does not exists or truncates the file if it exists.\n",
    "\n",
    "'a' open for appending at the end of the file without truncating it. creates a new file if it does not exist.\n",
    "\n",
    "'+' open a file for updating (reading and writing)"
   ]
  },
  {
   "cell_type": "markdown",
   "id": "6fa14296",
   "metadata": {},
   "source": [
    "# 7. What happens if an existing file is opened in write mode?"
   ]
  },
  {
   "cell_type": "markdown",
   "id": "af353d97",
   "metadata": {},
   "source": [
    "When a existing file is opened in write mode, contents which were previously present will be overwritten by new content passed."
   ]
  },
  {
   "cell_type": "markdown",
   "id": "ce6e1b45",
   "metadata": {},
   "source": [
    "# 8. How do you tell the difference between read() and readlines()?"
   ]
  },
  {
   "cell_type": "markdown",
   "id": "d927f24a",
   "metadata": {},
   "source": [
    "read() reads the entire contents of the file into a string.\n",
    "\n",
    "readline() just reads file till the next line "
   ]
  },
  {
   "cell_type": "markdown",
   "id": "49269918",
   "metadata": {},
   "source": [
    "# 9. What data structure does a shelf value resemble?"
   ]
  },
  {
   "cell_type": "markdown",
   "id": "93e01399",
   "metadata": {},
   "source": [
    "a shelf value resembles a directory value; it has keys and values, along with keys() and values() method that work similarly to the dictionary methods of the same names."
   ]
  },
  {
   "cell_type": "code",
   "execution_count": null,
   "id": "ace42381",
   "metadata": {},
   "outputs": [],
   "source": []
  }
 ],
 "metadata": {
  "kernelspec": {
   "display_name": "Python 3 (ipykernel)",
   "language": "python",
   "name": "python3"
  },
  "language_info": {
   "codemirror_mode": {
    "name": "ipython",
    "version": 3
   },
   "file_extension": ".py",
   "mimetype": "text/x-python",
   "name": "python",
   "nbconvert_exporter": "python",
   "pygments_lexer": "ipython3",
   "version": "3.9.7"
  }
 },
 "nbformat": 4,
 "nbformat_minor": 5
}
